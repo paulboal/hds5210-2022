{
 "cells": [
  {
   "cell_type": "code",
   "execution_count": null,
   "metadata": {},
   "outputs": [],
   "source": []
  },
  {
   "cell_type": "markdown",
   "metadata": {},
   "source": [
    "# HDS5210-2022 Midterm\n",
    "\n",
    "In the midterm, you're going to use all of the programming and data management skills you've developed so far to build a risk calculator that pretends to be integrated with a clinical registry.  You'll compute the PRIEST COVID-19 Clinical Severity Score for a series of patients and, based on their risk of an adverse outcome, query a REST web service to find a hospital to transfer them to. The end result of your work will be a list of instructions on where each patient should be discharged: \"home\" if they are below 30% risk and the recommended hospital if they are at or above 30%.\n",
    "\n",
    "Each step in the midterm will build up to form your final solution. Along the way, I've provided plenty of test cases to make sure that you're getting those steps correct.\n",
    "\n",
    "The midterm is due at 11:59 PM CST on Monday, March 14th.\n",
    "\n",
    "---"
   ]
  },
  {
   "cell_type": "markdown",
   "metadata": {},
   "source": [
    "## Step 1: Calculate PRIEST Clinical Severity Score\n",
    "\n",
    "This scoring algorithm can be found [here on the MDCalc website](https://www.mdcalc.com/priest-covid-19-clinical-severity-score#evidence).  \n",
    "\n",
    "1. You will need to write a function called **priest()** with the following input parameters.  \n",
    " * Sex\n",
    " * Age in years\n",
    " * Respiratory rate in breaths per minute\n",
    " * Oxygen saturation as a percent between 0 and 1\n",
    " * Heart rate in beats per minute\n",
    " * Systolic BP in mmHg\n",
    " * Temperature in degrees C\n",
    " * Alertness as a string description\n",
    " * Inspired Oxygen as as string description\n",
    " * Performance Status as a string description\n",
    "2. The function will need to follow the algorithm provided on the MDCalc website to compute a risk percentage that should be returned as a numeric value between 0 and 1.\n",
    "3. Be sure to use docstring documentation and at least three built-in docstring test cases.\n",
    "4. Assume that the input values that are strings could be any combination of upper or lower case. For example: 'male', 'Male', 'MALE', 'MalE' should all be interpretted by your code as male.\n",
    "5. If any of the inputs are invalid (for example a sex value that is not recognizable as male or female) your code should raise a ValueException that includes a message with the invalid input and which parameter that input was provided as.\n",
    "\n",
    "NOTES:\n",
    "1. In the final step there is a rule to convert form raw score to percentile.  In that conversion, 17-25 maps to 59-88% and ≥26 maps to >99%.  For our purposes, we want these to be specific % number outputs.  Use the following rule:\n",
    " * If score is between 17 and 25, percentile should be 0.59\n",
    " * If score is greater than or equal to 26, percentile should be 0.99\n"
   ]
  },
  {
   "cell_type": "code",
   "execution_count": 1,
   "metadata": {},
   "outputs": [],
   "source": [
    "def priest(sex, age, breath, o2sat, heart, systolic, temp, alertness, inspired, status):\n",
    "    \"\"\"(str, int, int, float, int, init, , float, float, str, str, str)->float\n",
    "    Using the provided algorithm, this function computes the PRIEST\n",
    "    COVID Clinical Severity Score.  This score is transplated using the provided\n",
    "    table to compute a 30-day probability of adverse outcomes, which\n",
    "    the function returns.\n",
    "    \n",
    "    See https://www.mdcalc.com/priest-covid-19-clinical-severity-score#evidence for \n",
    "    further documentation.\n",
    "    \"\"\"\n",
    "    \n",
    "    if sex.lower() == 'female':\n",
    "        pts_sex = 0\n",
    "    elif sex.lower() == 'male':\n",
    "        pts_sex = 1\n",
    "    else:\n",
    "        pts_sex = None\n",
    "        raise ValueError(f'Invalid value for sex: \"{sex}\". Sex must be male or female.')\n",
    "        \n",
    "    if age < 16:\n",
    "        pts_age = None\n",
    "    elif age <= 49:\n",
    "        pts_age = 0\n",
    "    elif age <= 65:\n",
    "        pts_age = 2\n",
    "    elif age <= 80:\n",
    "        pts_age = 3\n",
    "    else:\n",
    "        pts_age = 4\n",
    "        \n",
    "    if breath <9:\n",
    "        pts_breath = 3\n",
    "    elif breath <= 11:\n",
    "        pts_breath = 1\n",
    "    elif breath <= 20:\n",
    "        pts_breath = 0\n",
    "    elif breath <= 24:\n",
    "        pts_breath = 2\n",
    "    else:\n",
    "        pts_breath = 3\n",
    "        \n",
    "    if o2sat > 0.95:\n",
    "        pts_o2 = 0\n",
    "    elif o2sat >= 0.94:\n",
    "        pts_o2 = 1\n",
    "    elif o2sat >= 0.92:\n",
    "        pts_o2 = 2\n",
    "    else:\n",
    "        pts_o2 = 3\n",
    "    \n",
    "    if heart < 41:\n",
    "        pts_heart = 3\n",
    "    elif heart <= 50:\n",
    "        pts_heart = 1\n",
    "    elif heart <= 90:\n",
    "        pts_heart = 0\n",
    "    elif heart <= 110:\n",
    "        pts_heart = 1\n",
    "    elif heart <= 130:\n",
    "        pts_heart = 2\n",
    "    else:\n",
    "        pts_heart = 3\n",
    "        \n",
    "    if systolic < 91:\n",
    "        pts_systolic = 3\n",
    "    elif systolic <= 100:\n",
    "        pts_systolic = 2\n",
    "    elif systolic <= 110:\n",
    "        pts_systolic = 1\n",
    "    elif systolic <= 219:\n",
    "        pts_systolic = 0\n",
    "    else:\n",
    "        pts_systolic = 3\n",
    "        \n",
    "    if temp < 35.1:\n",
    "        pts_temp = 3\n",
    "    elif temp <= 36.0:\n",
    "        pts_temp = 1\n",
    "    elif temp <= 38:\n",
    "        pts_temp = 0\n",
    "    elif temp <= 39:\n",
    "        pts_temp = 1\n",
    "    else:\n",
    "        pts_temp = 2\n",
    "        \n",
    "    if alertness.lower() == 'alert':\n",
    "        pts_alertness = 0\n",
    "    elif alertness.lower() == 'confused or not alert':\n",
    "        pts_alertness = 3\n",
    "    else:\n",
    "        pts_alertness = None\n",
    "        raise ValueError(f'Invalidi value for alertness: \"{alertness}\". Must be \"alert\" or \"confused or not alert\".')\n",
    "        \n",
    "    if inspired.lower() == 'air':\n",
    "        pts_inspired = 0\n",
    "    elif inspired.lower() == 'supplemental oxygen':\n",
    "        pts_inspired = 2\n",
    "    else:\n",
    "        pts_inspired = None\n",
    "        raise ValueError(f'Invalid value for inspired: \"{inspired}\". Must be \"air\" or \"supplemental oxygen\".')\n",
    "        \n",
    "    if status.lower() == 'unrestricted normal activity':\n",
    "        pts_status = 0\n",
    "    elif status.lower() == 'limited strenuous activity, can do light activity':\n",
    "        pts_status = 1\n",
    "    elif status.lower() == 'limited activity, can self-care':\n",
    "        pts_status = 2\n",
    "    elif status.lower() == 'limited self-care':\n",
    "        pts_status = 3\n",
    "    elif status.lower() == 'bed/chair bound, no self-care':\n",
    "        pts_status = 4\n",
    "    else:\n",
    "        pts_status = None\n",
    "        raise ValueError(f'Invalid value for status: \"status\". See documentation for valid values.')\n",
    "    \n",
    "#     score = pts_sex + pts_age + pts_breath + pts_o2 + pts_heart + pts_systolic + pts_temp + pts_alertness + pts_inspired + pts_status\n",
    "    try:\n",
    "        score = pts_sex + pts_age + pts_breath + pts_o2 + pts_heart + pts_systolic + pts_temp + pts_alertness + pts_inspired + pts_status\n",
    "#         print(f'Score was {score}')\n",
    "    except:\n",
    "        score = None\n",
    "        raise ValueError(f'Unable to compute score from given inputs. Partial scores were {pts_sex}, {pts_age}, {pts_breath}, {pts_02}, {pts_heart}, {pts_systolic}, {pts_temp}, {pts_alertness}, {pts_inspired}, {pts_status}')\n",
    "        \n",
    "    score_map = {\n",
    "        0: 0.01,\n",
    "        1: 0.01,\n",
    "        2: 0.02,\n",
    "        3: 0.02,\n",
    "        4: 0.03,\n",
    "        5: 0.09,\n",
    "        6: 0.15,\n",
    "        7: 0.18,\n",
    "        8: 0.22,\n",
    "        9: 0.26,\n",
    "        10: 0.29,\n",
    "        11: 0.34,\n",
    "        12: 0.38,\n",
    "        13: 0.46,\n",
    "        14: 0.47,\n",
    "        15: 0.49,\n",
    "        16: 0.55\n",
    "    }\n",
    "    \n",
    "        \n",
    "    if score >= 26:\n",
    "        risk = 0.99\n",
    "    elif score >= 17:\n",
    "        risk = 0.59\n",
    "    else:\n",
    "        risk = score_map[score]\n",
    "        \n",
    "    return (\n",
    "        [pts_sex, pts_age, pts_breath, pts_o2, pts_heart, pts_systolic, pts_temp, pts_alertness, pts_inspired, pts_status],\n",
    "        score, risk\n",
    "    )\n",
    "    \n",
    "        \n",
    "        \n"
   ]
  },
  {
   "cell_type": "code",
   "execution_count": 2,
   "metadata": {},
   "outputs": [
    {
     "data": {
      "text/plain": [
       "([1, 0, 0, 0, 0, 0, 0, 0, 0, 0], 1, 0.01)"
      ]
     },
     "execution_count": 2,
     "metadata": {},
     "output_type": "execute_result"
    }
   ],
   "source": [
    "priest('male',34,12,0.97,65,130,37.0,'alert','air','unrestricted normal activity')"
   ]
  },
  {
   "cell_type": "code",
   "execution_count": 3,
   "metadata": {},
   "outputs": [
    {
     "data": {
      "text/plain": [
       "([1, 3, 0, 0, 0, 0, 0, 0, 0, 0], 4, 0.03)"
      ]
     },
     "execution_count": 3,
     "metadata": {},
     "output_type": "execute_result"
    }
   ],
   "source": [
    "priest('male',68,12,0.97,65,130,37.0,'alert','air','unrestricted normal activity')"
   ]
  },
  {
   "cell_type": "code",
   "execution_count": 4,
   "metadata": {},
   "outputs": [
    {
     "ename": "ValueError",
     "evalue": "Invalid value for sex: \"gunk\". Sex must be male or female.",
     "output_type": "error",
     "traceback": [
      "\u001b[0;31m---------------------------------------------------------------------------\u001b[0m",
      "\u001b[0;31mValueError\u001b[0m                                Traceback (most recent call last)",
      "\u001b[0;32m<ipython-input-4-6067ec1674e2>\u001b[0m in \u001b[0;36m<module>\u001b[0;34m\u001b[0m\n\u001b[0;32m----> 1\u001b[0;31m \u001b[0mpriest\u001b[0m\u001b[0;34m(\u001b[0m\u001b[0;34m'gunk'\u001b[0m\u001b[0;34m,\u001b[0m\u001b[0;36m34\u001b[0m\u001b[0;34m,\u001b[0m\u001b[0;36m12\u001b[0m\u001b[0;34m,\u001b[0m\u001b[0;36m0.97\u001b[0m\u001b[0;34m,\u001b[0m\u001b[0;36m65\u001b[0m\u001b[0;34m,\u001b[0m\u001b[0;36m130\u001b[0m\u001b[0;34m,\u001b[0m\u001b[0;36m37.0\u001b[0m\u001b[0;34m,\u001b[0m\u001b[0;34m'alert'\u001b[0m\u001b[0;34m,\u001b[0m\u001b[0;34m'air'\u001b[0m\u001b[0;34m,\u001b[0m\u001b[0;34m'unrestricted normal activity'\u001b[0m\u001b[0;34m)\u001b[0m\u001b[0;34m\u001b[0m\u001b[0;34m\u001b[0m\u001b[0m\n\u001b[0m",
      "\u001b[0;32m<ipython-input-1-e5bfda6edd00>\u001b[0m in \u001b[0;36mpriest\u001b[0;34m(sex, age, breath, o2sat, heart, systolic, temp, alertness, inspired, status)\u001b[0m\n\u001b[1;32m     16\u001b[0m     \u001b[0;32melse\u001b[0m\u001b[0;34m:\u001b[0m\u001b[0;34m\u001b[0m\u001b[0;34m\u001b[0m\u001b[0m\n\u001b[1;32m     17\u001b[0m         \u001b[0mpts_sex\u001b[0m \u001b[0;34m=\u001b[0m \u001b[0;32mNone\u001b[0m\u001b[0;34m\u001b[0m\u001b[0;34m\u001b[0m\u001b[0m\n\u001b[0;32m---> 18\u001b[0;31m         \u001b[0;32mraise\u001b[0m \u001b[0mValueError\u001b[0m\u001b[0;34m(\u001b[0m\u001b[0;34mf'Invalid value for sex: \"{sex}\". Sex must be male or female.'\u001b[0m\u001b[0;34m)\u001b[0m\u001b[0;34m\u001b[0m\u001b[0;34m\u001b[0m\u001b[0m\n\u001b[0m\u001b[1;32m     19\u001b[0m \u001b[0;34m\u001b[0m\u001b[0m\n\u001b[1;32m     20\u001b[0m     \u001b[0;32mif\u001b[0m \u001b[0mage\u001b[0m \u001b[0;34m<\u001b[0m \u001b[0;36m16\u001b[0m\u001b[0;34m:\u001b[0m\u001b[0;34m\u001b[0m\u001b[0;34m\u001b[0m\u001b[0m\n",
      "\u001b[0;31mValueError\u001b[0m: Invalid value for sex: \"gunk\". Sex must be male or female."
     ]
    }
   ],
   "source": [
    "priest('gunk',34,12,0.97,65,130,37.0,'alert','air','unrestricted normal activity')"
   ]
  },
  {
   "cell_type": "markdown",
   "metadata": {},
   "source": [
    "## Part 2: Find a hospital\n",
    "\n",
    "The next thing we have to do is figure out where to send this particular patient.  The guidelines on where to send a patient are based on their age (pediatric, adult, geriatric), sex, and risk percentage.  Luckily, you don't have to implement these rules. I already have. All you have to do is use a REST web service that I've created for you.\n",
    "\n",
    "You'll want to use Python to make a call to my REST web service similar to the example URL below. The first part of the URL will be the same for everyone and every request that you make. What you will need to modify for each of your requests is the information after the question mark.\n",
    "\n",
    "```\n",
    "https://oumdj6oci2.execute-api.us-east-1.amazonaws.com/prd/?age=40&sex=male&risk_pct=0.1\n",
    "```\n",
    "\n",
    "The example above asks my web service where a 40-year old male with a risk percetage of 10% should go.  What the web service will return back is a JSON string containing the information you need.  That JSON will look like this:\n",
    "\n",
    "```json\n",
    "{\n",
    "  \"age\": \"40\",\n",
    "  \"sex\": \"male\",\n",
    "  \"risk\": \"0.1\",\n",
    "  \"hospital\": \"Southwest Hospital and Medical Center\"\n",
    "}\n",
    "```\n",
    "\n",
    "1. Your job is to write a function called **find_hospital()** that takes age, sex, and risk as parameters.\n",
    "2. Your function should call this REST web service\n",
    "3. Then your function will need to interpret the JSON it gets and return just the name of the hospital\n",
    "4. If anything fails, return None without raising any exceptions\n",
    "5. Include a good docstring with at least five test cases.\n"
   ]
  },
  {
   "cell_type": "code",
   "execution_count": 5,
   "metadata": {},
   "outputs": [],
   "source": [
    "import requests\n",
    "import json\n",
    "\n",
    "def find_hospital(age, sex, risk):\n",
    "    \"\"\"(int, str, float)->str\n",
    "    Use the professor's REST web service to lookup and return the\n",
    "    name of the hospital where this person should be sent.\n",
    "    \n",
    "    >>> find_hospital(40, 'male', 0.1)\n",
    "    Southwest Hospital and Medical Center\n",
    "    \"\"\"\n",
    "    \n",
    "    url = f'https://oumdj6oci2.execute-api.us-east-1.amazonaws.com/prd/?age={age}&sex={sex}&risk_pct={risk}'\n",
    "    \n",
    "    try:\n",
    "        r = requests.get(url)\n",
    "        info = r.json()\n",
    "        hospital = info.get('hospital')\n",
    "    except:\n",
    "        hospital = None\n",
    "        raise ValueError(f'Unable to find hospital for inputs: {age} {sex} {risk}')\n",
    "    \n",
    "    return hospital"
   ]
  },
  {
   "cell_type": "code",
   "execution_count": 6,
   "metadata": {},
   "outputs": [
    {
     "data": {
      "text/plain": [
       "'Southwest Hospital and Medical Center'"
      ]
     },
     "execution_count": 6,
     "metadata": {},
     "output_type": "execute_result"
    }
   ],
   "source": [
    "find_hospital(40, 'male', 0.1)"
   ]
  },
  {
   "cell_type": "code",
   "execution_count": 7,
   "metadata": {},
   "outputs": [
    {
     "ename": "TypeError",
     "evalue": "find_hospital() missing 3 required positional arguments: 'age', 'sex', and 'risk'",
     "output_type": "error",
     "traceback": [
      "\u001b[0;31m---------------------------------------------------------------------------\u001b[0m",
      "\u001b[0;31mTypeError\u001b[0m                                 Traceback (most recent call last)",
      "\u001b[0;32m<ipython-input-7-b829cf3de1df>\u001b[0m in \u001b[0;36m<module>\u001b[0;34m\u001b[0m\n\u001b[0;32m----> 1\u001b[0;31m \u001b[0mfind_hospital\u001b[0m\u001b[0;34m(\u001b[0m\u001b[0;34m)\u001b[0m\u001b[0;34m\u001b[0m\u001b[0;34m\u001b[0m\u001b[0m\n\u001b[0m",
      "\u001b[0;31mTypeError\u001b[0m: find_hospital() missing 3 required positional arguments: 'age', 'sex', and 'risk'"
     ]
    }
   ],
   "source": [
    "find_hospital()"
   ]
  },
  {
   "cell_type": "markdown",
   "metadata": {},
   "source": [
    "## Part 3: Get the address for that hospital from a webpage\n",
    "\n",
    "Great! Now we have code to tell us which hospital to send someone to... but we don't know where that hospital is. The next function we need to create is one that looks up the address of that hospital.  All of these hospitals are in Atlanta, Georgia.  We're going to use the list on this webpage to lookup the address for that hospital, based on its name.\n",
    "\n",
    "https://www.officialusa.com/stateguides/health/hospitals/georgia.html\n",
    "\n",
    "1. You need to create a function called **get_address()** that takes hospital name as a parameter and searches the data on the webpage above to find the addres for that hospital.\n",
    "2. I've said that all the hospitals are in Atlanta, but this webpage has hospitals from all of Georgia.  So, make sure you verify that the row of data you're using is in Atlanta, just in case there are hospitals with the same name in different cities.\n",
    "3. Your code will have to parse the HTML on the webpage and turn that into some kind of data structure that you can search through to find the right hospital.\n",
    "4. If you do find more than one matching hospital in Atlanta with the same name, you should raise a KeyError.\n",
    "5. If the hospital name isn't found, the function should raise a KeyError.\n",
    "6. Be sure to use good docstring documentation and includes at least 3 test cases."
   ]
  },
  {
   "cell_type": "code",
   "execution_count": 8,
   "metadata": {},
   "outputs": [],
   "source": [
    "import requests\n",
    "from bs4 import BeautifulSoup\n",
    "\n",
    "def get_address(hospital):\n",
    "    \"\"\"(str)->str\n",
    "    Fetches the hospital address from the known webpage.\n",
    "    \n",
    "    >>> get_address('Southwest Hospital and Medical Center')\n",
    "    '501 FAIRBURN ROAD SW'\n",
    "    \"\"\"\n",
    "    \n",
    "    if hospital is None:\n",
    "        raise ValueError(f'Cannot search for None as hospital')\n",
    "    \n",
    "    r = requests.get('https://www.officialusa.com/stateguides/health/hospitals/georgia.html')\n",
    "    soup = BeautifulSoup(r.text)\n",
    "    \n",
    "    hospitals = {}\n",
    "    for row in soup.find_all('tr'):\n",
    "        data = list(row.find_all('td'))\n",
    "        if len(data) > 0:\n",
    "            (city, name, typ, address, website, beds, naixs_desc) = [d.text for d in data]\n",
    "            if city.upper() == 'ATLANTA' and name.upper() == hospital.upper():\n",
    "                hospitals[hospital] = address\n",
    "                \n",
    "    if len(hospitals) > 1:\n",
    "        raise KeyError(f'Multiple addresses found for {hospital}')\n",
    "    elif len(hospitals) < 1:\n",
    "        raise KeyError(f'Hospital not found: {hospital}')\n",
    "\n",
    "    result = hospitals.get(list(hospitals.keys())[0])\n",
    "    return result\n",
    "    "
   ]
  },
  {
   "cell_type": "code",
   "execution_count": 9,
   "metadata": {},
   "outputs": [
    {
     "data": {
      "text/plain": [
       "'501 FAIRBURN ROAD SW'"
      ]
     },
     "execution_count": 9,
     "metadata": {},
     "output_type": "execute_result"
    }
   ],
   "source": [
    "get_address('Southwest Hospital and Medical Center')"
   ]
  },
  {
   "cell_type": "code",
   "execution_count": 10,
   "metadata": {},
   "outputs": [
    {
     "ename": "KeyError",
     "evalue": "'Hospital not found: BJC Hospital'",
     "output_type": "error",
     "traceback": [
      "\u001b[0;31m---------------------------------------------------------------------------\u001b[0m",
      "\u001b[0;31mKeyError\u001b[0m                                  Traceback (most recent call last)",
      "\u001b[0;32m<ipython-input-10-e5235d71eca6>\u001b[0m in \u001b[0;36m<module>\u001b[0;34m\u001b[0m\n\u001b[0;32m----> 1\u001b[0;31m \u001b[0mget_address\u001b[0m\u001b[0;34m(\u001b[0m\u001b[0;34m'BJC Hospital'\u001b[0m\u001b[0;34m)\u001b[0m\u001b[0;34m\u001b[0m\u001b[0;34m\u001b[0m\u001b[0m\n\u001b[0m",
      "\u001b[0;32m<ipython-input-8-e239acf6ffc2>\u001b[0m in \u001b[0;36mget_address\u001b[0;34m(hospital)\u001b[0m\n\u001b[1;32m     27\u001b[0m         \u001b[0;32mraise\u001b[0m \u001b[0mKeyError\u001b[0m\u001b[0;34m(\u001b[0m\u001b[0;34mf'Multiple addresses found for {hospital}'\u001b[0m\u001b[0;34m)\u001b[0m\u001b[0;34m\u001b[0m\u001b[0;34m\u001b[0m\u001b[0m\n\u001b[1;32m     28\u001b[0m     \u001b[0;32melif\u001b[0m \u001b[0mlen\u001b[0m\u001b[0;34m(\u001b[0m\u001b[0mhospitals\u001b[0m\u001b[0;34m)\u001b[0m \u001b[0;34m<\u001b[0m \u001b[0;36m1\u001b[0m\u001b[0;34m:\u001b[0m\u001b[0;34m\u001b[0m\u001b[0;34m\u001b[0m\u001b[0m\n\u001b[0;32m---> 29\u001b[0;31m         \u001b[0;32mraise\u001b[0m \u001b[0mKeyError\u001b[0m\u001b[0;34m(\u001b[0m\u001b[0;34mf'Hospital not found: {hospital}'\u001b[0m\u001b[0;34m)\u001b[0m\u001b[0;34m\u001b[0m\u001b[0;34m\u001b[0m\u001b[0m\n\u001b[0m\u001b[1;32m     30\u001b[0m \u001b[0;34m\u001b[0m\u001b[0m\n\u001b[1;32m     31\u001b[0m     \u001b[0mresult\u001b[0m \u001b[0;34m=\u001b[0m \u001b[0mhospitals\u001b[0m\u001b[0;34m.\u001b[0m\u001b[0mget\u001b[0m\u001b[0;34m(\u001b[0m\u001b[0mlist\u001b[0m\u001b[0;34m(\u001b[0m\u001b[0mhospitals\u001b[0m\u001b[0;34m.\u001b[0m\u001b[0mkeys\u001b[0m\u001b[0;34m(\u001b[0m\u001b[0;34m)\u001b[0m\u001b[0;34m)\u001b[0m\u001b[0;34m[\u001b[0m\u001b[0;36m0\u001b[0m\u001b[0;34m]\u001b[0m\u001b[0;34m)\u001b[0m\u001b[0;34m\u001b[0m\u001b[0;34m\u001b[0m\u001b[0m\n",
      "\u001b[0;31mKeyError\u001b[0m: 'Hospital not found: BJC Hospital'"
     ]
    }
   ],
   "source": [
    "get_address('BJC Hospital')"
   ]
  },
  {
   "cell_type": "markdown",
   "metadata": {},
   "source": [
    "## Part 4: Run the risk calculator on a population\n",
    "\n",
    "The `/data` folder has a file called `people.psv`.  It is a pipe-delimited (`|`) file with columns that match the inputs for the PRIEST calculation above.\n",
    "\n",
    "In addition, the file has a patient identifier in the first column.\n",
    "\n",
    "1. Write a function called **process_people()** that takes a file name as a parameter. Your Python program should use your code above to process all of these rows, determine the hospital and address, and return a list whose items are a dictionary like `{ patient_number: [sex, age, breath, o2sat, heart, systolic, temp, alertness, inspired, status, hospital, address]}`\n",
    "2. Be sure to use good docstrings, but you don't need any tests in your doc strings.  I've provided those for you below.\n",
    "\n"
   ]
  },
  {
   "cell_type": "code",
   "execution_count": 11,
   "metadata": {},
   "outputs": [],
   "source": [
    "import csv\n",
    "\n",
    "def process_people(file):\n",
    "    result = {}\n",
    "\n",
    "    with open(file) as f:\n",
    "        reader = csv.reader(f, delimiter='|')\n",
    "        for row in reader:\n",
    "            (patient, sex, age, breath, o2sat, heart, systolic, temp, alertness, inspired, status) = row\n",
    "\n",
    "            if (patient != 'patient'):\n",
    "                age = int(age)\n",
    "                breath = float(breath)\n",
    "                o2sat = float(o2sat)\n",
    "                heart = float(heart)\n",
    "                systolic = float(systolic)\n",
    "                temp = float(temp)\n",
    "                scores, score, percentile = priest(sex, int(age), float(breath), float(o2sat), float(heart), float(systolic), float(temp), alertness, inspired, status)\n",
    "                hospital = find_hospital(int(age), sex, float(percentile))\n",
    "                if hospital is None:\n",
    "                    print(f'Unable to find hospital for {sex}, {age}, {score}, {percentile}')\n",
    "                location = get_address(hospital)\n",
    "#                 result[patient] = [sex, age, breath, o2sat, heart, systolic, temp, alertness, inspired, status, scores, score, percentile, hospital, location]\n",
    "                result[patient] = [sex, age, breath, o2sat, heart, systolic, temp, alertness, inspired, status, percentile, hospital, location]\n",
    "    \n",
    "    \n",
    "    \n",
    "    return result"
   ]
  },
  {
   "cell_type": "code",
   "execution_count": null,
   "metadata": {},
   "outputs": [],
   "source": [
    "outputs = process_people('people.psv')"
   ]
  },
  {
   "cell_type": "code",
   "execution_count": null,
   "metadata": {},
   "outputs": [],
   "source": [
    "import json\n",
    "\n",
    "with open('people_results.json', 'w') as f:\n",
    "    f.write(json.dumps(outputs, indent=4))\n"
   ]
  },
  {
   "cell_type": "markdown",
   "metadata": {},
   "source": [
    "## Part 5: Checking your final results\n",
    "\n",
    "The final step is to check your results.  You should be able to compare your results to the output in `people_results.json` in the `/data` folder.  Write some code to check your results.  This does not need to be a function."
   ]
  },
  {
   "cell_type": "code",
   "execution_count": null,
   "metadata": {},
   "outputs": [],
   "source": []
  },
  {
   "cell_type": "code",
   "execution_count": null,
   "metadata": {},
   "outputs": [],
   "source": []
  },
  {
   "cell_type": "markdown",
   "metadata": {},
   "source": [
    "---\n",
    "\n",
    "## Check your work above\n",
    "\n",
    "If you didn't get them all correct, take a few minutes to think through those that aren't correct.\n",
    "\n",
    "\n",
    "## Submitting Your Work\n",
    "\n",
    "In order to submit your work, you'll need to use the `git` command line program to **add** your homework file (this file) to your local repository, **commit** your changes to your local repository, and then **push** those changes up to github.com.  From there, I'll be able to **pull** the changes down and do my grading.  I'll provide some feedback, **commit** and **push** my comments back to you.  Next week, I'll show you how to **pull** down my comments.\n",
    "\n",
    "To run through everything one last time and submit your work:\n",
    "1. Use the `Kernel` -> `Restart Kernel and Run All Cells` menu option to run everything from top to bottom and stop here.\n",
    "2. Follow the instruction on the prompt below to either ssave and submit your work, or continue working.\n",
    "\n",
    "If anything fails along the way with this submission part of the process, let me know.  I'll help you troubleshoort."
   ]
  },
  {
   "cell_type": "markdown",
   "metadata": {},
   "source": [
    "---"
   ]
  },
  {
   "cell_type": "code",
   "execution_count": 1,
   "metadata": {
    "jupyter": {
     "source_hidden": true
    }
   },
   "outputs": [
    {
     "name": "stdin",
     "output_type": "stream",
     "text": [
      "\n",
      "Are you ready to submit your work?\n",
      "1. Click the Save icon (or do Ctrl-S / Cmd-S)\n",
      "2. Type \"yes\" or \"no\" below\n",
      "3. Press Enter\n",
      "\n",
      " yes\n"
     ]
    },
    {
     "name": "stdout",
     "output_type": "stream",
     "text": [
      "[main d88bc5b] Submitting the week 7 programming exercises\n",
      " 2 files changed, 297 insertions(+), 8 deletions(-)\n",
      " create mode 100644 week07/week07_assignment_2.ipynb\n",
      "Counting objects: 5, done.\n",
      "Delta compression using up to 2 threads.\n",
      "Compressing objects: 100% (5/5), done.\n",
      "Writing objects: 100% (5/5), 3.66 KiB | 3.66 MiB/s, done.\n",
      "Total 5 (delta 2), reused 0 (delta 0)\n",
      "remote: Resolving deltas: 100% (2/2), completed with 2 local objects.\u001b[K\n",
      "To github.com:paulboal/hds5210-2022.git\n",
      "   fc2200c..d88bc5b  main -> main\n"
     ]
    }
   ],
   "source": [
    "a=input('''\n",
    "Are you ready to submit your work?\n",
    "1. Click the Save icon (or do Ctrl-S / Cmd-S)\n",
    "2. Type \"yes\" or \"no\" below\n",
    "3. Press Enter\n",
    "\n",
    "''')\n",
    "\n",
    "if a=='yes':\n",
    "    !git add \"midterm-2022.ipynb\"\n",
    "    !git commit -a -m \"Submitting the midterm\"\n",
    "    !git push\n",
    "else:\n",
    "    print('''\n",
    "    \n",
    "OK. We can wait.\n",
    "''')"
   ]
  },
  {
   "cell_type": "code",
   "execution_count": null,
   "metadata": {},
   "outputs": [],
   "source": []
  }
 ],
 "metadata": {
  "kernelspec": {
   "display_name": "Python 3",
   "language": "python",
   "name": "python3"
  },
  "language_info": {
   "codemirror_mode": {
    "name": "ipython",
    "version": 3
   },
   "file_extension": ".py",
   "mimetype": "text/x-python",
   "name": "python",
   "nbconvert_exporter": "python",
   "pygments_lexer": "ipython3",
   "version": "3.6.7"
  }
 },
 "nbformat": 4,
 "nbformat_minor": 4
}
